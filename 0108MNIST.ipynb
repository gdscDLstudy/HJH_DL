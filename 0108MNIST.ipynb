{
  "nbformat": 4,
  "nbformat_minor": 0,
  "metadata": {
    "colab": {
      "provenance": [],
      "gpuType": "T4"
    },
    "kernelspec": {
      "name": "python3",
      "display_name": "Python 3"
    },
    "language_info": {
      "name": "python"
    },
    "accelerator": "GPU"
  },
  "cells": [
    {
      "cell_type": "markdown",
      "source": [
        "## IMPORT MODULES"
      ],
      "metadata": {
        "id": "g_yCvkxrGoPo"
      }
    },
    {
      "cell_type": "code",
      "execution_count": null,
      "metadata": {
        "id": "-XXgkImwGjV1"
      },
      "outputs": [],
      "source": [
        "import numpy as np # 선형대수 모듈\n",
        "import matplotlib.pyplot as plt # 시각화 모듈\n",
        "import torch # 파이토치\n",
        "import torch.nn as nn # PyTorch의 모듈을 모아놓은 것. from~~이 아닌 저렇게 임포트를 하는 것이 거의 관습이라고 한다.\n",
        "import torch.nn.functional as F # torch.nn 중에서 자주 쓰는 함수를 F로 임포트.\n",
        "import torch.nn.init as init # 초기화 관련 모듈\n",
        "import torchvision # TorchVision 임포트\n",
        "from torchvision import transforms, datasets # 데이터를 다루기 위한 TorchVision 내의 Transforms와 datasets를 따로 임포트"
      ]
    },
    {
      "cell_type": "markdown",
      "source": [
        "## DEVICE 설정\n",
        "Google Colab으로 프로그램을 구성하는데 미리 노트북 설정에서 GPU를 해야 cuda.is_available()이 True가 나와 cuda:0으로 설정이 된다.\n",
        "ATCH_SIZE는 한 번에 학습을 실행할 때 사용할 데이터의 크기를 정한다.\n",
        "여기에서는 32로 하였다. 메모리가 허용해 주는 한 어느 정도 크게 하는 게 좋다.\n",
        "EPOCHS는 전체 데이터를 다 한 번 학습을 돌리는 게 1EPOCH이니 여기에선 전체 데이터를 30번 학습한다는 말이 된다. Epoch과 Batch Size의 관계는 Epoch = iterations ∗ Batch Size이다."
      ],
      "metadata": {
        "id": "91f3IehcG4fV"
      }
    },
    {
      "cell_type": "code",
      "source": [
        "DEVICE = torch.device('cuda:0') if torch.cuda.is_available() else torch.device('cpu')\n",
        "\n",
        "BATCH_SIZE = 32\n",
        "EPOCHS = 30\n",
        "\n",
        "print('Using PyTorch version: ', torch.__version__, 'Device: ', DEVICE)"
      ],
      "metadata": {
        "colab": {
          "base_uri": "https://localhost:8080/"
        },
        "id": "Za9xYlkSGuin",
        "outputId": "5a8ef771-da4b-4e03-a6cf-59fea12c5a81"
      },
      "execution_count": null,
      "outputs": [
        {
          "output_type": "stream",
          "name": "stdout",
          "text": [
            "Using PyTorch version:  2.1.0+cu121 Device:  cuda:0\n"
          ]
        }
      ]
    },
    {
      "cell_type": "markdown",
      "source": [
        "---"
      ],
      "metadata": {
        "id": "ZJ2YnD5OHKxq"
      }
    },
    {
      "cell_type": "markdown",
      "source": [
        "## MNIST 데이터 설정"
      ],
      "metadata": {
        "id": "y8wztz4jHL_1"
      }
    },
    {
      "cell_type": "code",
      "source": [
        "train_dataset = datasets.MNIST(\n",
        "    root=\"../data/MNIST\",\n",
        "    train=True,\n",
        "    download=True,\n",
        "    transform=transforms.ToTensor()\n",
        ")\n",
        "test_dataset = datasets.MNIST(\n",
        "    root=\"../data/MNIST\",\n",
        "    train=False,\n",
        "    download=True,\n",
        "    transform=transforms.ToTensor()\n",
        ")\n",
        "train_loader = torch.utils.data.DataLoader(\n",
        "    dataset=train_dataset,\n",
        "    batch_size=BATCH_SIZE,\n",
        "    shuffle=True\n",
        ")\n",
        "test_loader = torch.utils.data.DataLoader(\n",
        "    dataset=test_dataset,\n",
        "    batch_size=BATCH_SIZE,\n",
        "    shuffle=False\n",
        ")"
      ],
      "metadata": {
        "colab": {
          "base_uri": "https://localhost:8080/"
        },
        "id": "BayLfCHgG2zT",
        "outputId": "eb4c95d1-3af3-482e-b561-40b4885fc26a"
      },
      "execution_count": null,
      "outputs": [
        {
          "output_type": "stream",
          "name": "stdout",
          "text": [
            "Downloading http://yann.lecun.com/exdb/mnist/train-images-idx3-ubyte.gz\n",
            "Downloading http://yann.lecun.com/exdb/mnist/train-images-idx3-ubyte.gz to ../data/MNIST/MNIST/raw/train-images-idx3-ubyte.gz\n"
          ]
        },
        {
          "output_type": "stream",
          "name": "stderr",
          "text": [
            "100%|██████████| 9912422/9912422 [00:00<00:00, 160726285.77it/s]"
          ]
        },
        {
          "output_type": "stream",
          "name": "stdout",
          "text": [
            "Extracting ../data/MNIST/MNIST/raw/train-images-idx3-ubyte.gz to ../data/MNIST/MNIST/raw\n"
          ]
        },
        {
          "output_type": "stream",
          "name": "stderr",
          "text": [
            "\n"
          ]
        },
        {
          "output_type": "stream",
          "name": "stdout",
          "text": [
            "\n",
            "Downloading http://yann.lecun.com/exdb/mnist/train-labels-idx1-ubyte.gz\n",
            "Downloading http://yann.lecun.com/exdb/mnist/train-labels-idx1-ubyte.gz to ../data/MNIST/MNIST/raw/train-labels-idx1-ubyte.gz\n"
          ]
        },
        {
          "output_type": "stream",
          "name": "stderr",
          "text": [
            "100%|██████████| 28881/28881 [00:00<00:00, 44848461.25it/s]\n"
          ]
        },
        {
          "output_type": "stream",
          "name": "stdout",
          "text": [
            "Extracting ../data/MNIST/MNIST/raw/train-labels-idx1-ubyte.gz to ../data/MNIST/MNIST/raw\n",
            "\n",
            "Downloading http://yann.lecun.com/exdb/mnist/t10k-images-idx3-ubyte.gz\n",
            "Downloading http://yann.lecun.com/exdb/mnist/t10k-images-idx3-ubyte.gz to ../data/MNIST/MNIST/raw/t10k-images-idx3-ubyte.gz\n"
          ]
        },
        {
          "output_type": "stream",
          "name": "stderr",
          "text": [
            "100%|██████████| 1648877/1648877 [00:00<00:00, 43083492.06it/s]"
          ]
        },
        {
          "output_type": "stream",
          "name": "stdout",
          "text": [
            "Extracting ../data/MNIST/MNIST/raw/t10k-images-idx3-ubyte.gz to ../data/MNIST/MNIST/raw\n"
          ]
        },
        {
          "output_type": "stream",
          "name": "stderr",
          "text": [
            "\n"
          ]
        },
        {
          "output_type": "stream",
          "name": "stdout",
          "text": [
            "\n",
            "Downloading http://yann.lecun.com/exdb/mnist/t10k-labels-idx1-ubyte.gz\n",
            "Downloading http://yann.lecun.com/exdb/mnist/t10k-labels-idx1-ubyte.gz to ../data/MNIST/MNIST/raw/t10k-labels-idx1-ubyte.gz\n"
          ]
        },
        {
          "output_type": "stream",
          "name": "stderr",
          "text": [
            "100%|██████████| 4542/4542 [00:00<00:00, 3244852.46it/s]\n"
          ]
        },
        {
          "output_type": "stream",
          "name": "stdout",
          "text": [
            "Extracting ../data/MNIST/MNIST/raw/t10k-labels-idx1-ubyte.gz to ../data/MNIST/MNIST/raw\n",
            "\n"
          ]
        }
      ]
    },
    {
      "cell_type": "markdown",
      "source": [
        "**해설**\n",
        "\n",
        "datasets.MNIST로 MNIST의 데이터 셋을 불러올 수가 있다. train 옵션을 True로 넣어주는 것만으로 Train Data set으로 설정할 수 있으며 Test는 당연히 train=False로 하면 된다.\n",
        "transform 옵션은 전처리에 관련된 내용인데, 각각의 필기 그림을 텐서 형태로만 변환해 준다. 각 픽셀을 0~1 사이의 값으로 정규화를 해 준다.\n",
        "DataLoader는 단순하게 위에서 불러온 dataset을 사전에 설정한 batch size(32)로 미니 배치 설정을 할 수 있도록 해 준다."
      ],
      "metadata": {
        "id": "OnDY05jGHVm4"
      }
    },
    {
      "cell_type": "markdown",
      "source": [
        "---"
      ],
      "metadata": {
        "id": "THfOrShlKmwX"
      }
    },
    {
      "cell_type": "markdown",
      "source": [
        "## 데이터 체크"
      ],
      "metadata": {
        "id": "1psMb9Z6KoMa"
      }
    },
    {
      "cell_type": "code",
      "source": [
        "for (X_train, y_train) in train_loader:\n",
        "    print('X_train: ', X_train.size(), 'type: ', X_train.type())\n",
        "    print('y_train: ', y_train.size(), 'type: ', y_train.type())\n",
        "    break"
      ],
      "metadata": {
        "colab": {
          "base_uri": "https://localhost:8080/"
        },
        "id": "AobpKRKbHUVP",
        "outputId": "62fa2b57-f5c0-44f6-89be-56f4bb1f2452"
      },
      "execution_count": null,
      "outputs": [
        {
          "output_type": "stream",
          "name": "stdout",
          "text": [
            "X_train:  torch.Size([32, 1, 28, 28]) type:  torch.FloatTensor\n",
            "y_train:  torch.Size([32]) type:  torch.LongTensor\n"
          ]
        }
      ]
    },
    {
      "cell_type": "markdown",
      "source": [
        "**해설**\n",
        "\n",
        "train_loader에서 각 미니배치 별로 데이터가 출력되기 때문에 break문을 써주지 않는다면 같은 모양의 출력이 여러 번(엄청 많이) 나온다. 어차피 다 같기 때문에 break를 걸어서 한 번씩만 출력시킨다.\n",
        "28, 28은 하나의 손글씨 그림의 크기(가로세로 28 pixel)이며 32개 당 하나의 Mini Batch이므로 32,1,28,28의 사이즈가 나온다.\n",
        "y_train은 이미지 하나에 대한 정답 텐서이기 때문에 32라는 롱텐서 하나만 출력된다."
      ],
      "metadata": {
        "id": "IxlKIvWvKrJ6"
      }
    },
    {
      "cell_type": "markdown",
      "source": [
        "## 이미지 출력"
      ],
      "metadata": {
        "id": "dBH5yQZoP5dZ"
      }
    },
    {
      "cell_type": "code",
      "source": [
        "def imshow(img):\n",
        "    # img = img / 2 + 0.5     # denormalize\n",
        "    npimg = img.numpy()\n",
        "    plt.axis('off')\n",
        "    plt.imshow(np.transpose(npimg, (1, 2, 0)))\n",
        "    plt.show()\n",
        "\n",
        "dataiter = iter(train_loader) # iterator\n",
        "images, labels = next(iter(train_loader))\n",
        "\n",
        "imshow(torchvision.utils.make_grid(images))"
      ],
      "metadata": {
        "colab": {
          "base_uri": "https://localhost:8080/",
          "height": 287
        },
        "id": "tIEdmKszKq4O",
        "outputId": "1ebb01fb-e0c8-4052-fd38-e5f4c4f08238"
      },
      "execution_count": null,
      "outputs": [
        {
          "output_type": "display_data",
          "data": {
            "text/plain": [
              "<Figure size 640x480 with 1 Axes>"
            ],
            "image/png": "[encoded data removed]"
          },
          "metadata": {}
        }
      ]
    },
    {
      "cell_type": "markdown",
      "source": [
        "**해설**\n",
        "\n",
        "이 코드는 매번 실행할 때마다 다른 32개의 숫자 그림이 나온다.\n",
        "누가 썼는지 글씨 정말 이상하게 쓴다."
      ],
      "metadata": {
        "id": "_MYxdjHVP9CD"
      }
    },
    {
      "cell_type": "markdown",
      "source": [
        "---"
      ],
      "metadata": {
        "id": "cA8fiF2oQrc7"
      }
    },
    {
      "cell_type": "markdown",
      "source": [
        "## MLP(Multi Layer Perceptron) 모델 설계"
      ],
      "metadata": {
        "id": "8qD586aKQss1"
      }
    },
    {
      "cell_type": "code",
      "source": [
        "class MLP(nn.Module):\n",
        "    def __init__(self):\n",
        "        super(MLP, self).__init__()\n",
        "        self.fc1 = nn.Linear(28 * 28, 512)\n",
        "        self.fc2 = nn.Linear(512, 256)\n",
        "        self.fc3 = nn.Linear(256, 10)\n",
        "        self.dropout_prob = 0.5 # 50%의 노드에 대한 가중치 계산을 하지 않기 위한 설정\n",
        "        self.batch_norm1 = nn.BatchNorm1d(512) # 1dimension이기 때문에 BatchNorm1d를 사용함.\n",
        "        self.batch_norm2 = nn.BatchNorm1d(256)\n",
        "\n",
        "    def forward(self, x):\n",
        "        x = x.view(-1, 28 * 28)\n",
        "        x = self.fc1(x)\n",
        "        x = self.batch_norm1(x)\n",
        "        x = F.relu(x) # sigmoid(x)\n",
        "        x = F.dropout(x, training=self.training, p=self.dropout_prob)\n",
        "        x = self.fc2(x)\n",
        "        x = self.batch_norm2(x)\n",
        "        x = F.relu(x) # sigmoid(x)\n",
        "        x = F.dropout(x, training=self.training, p=self.dropout_prob)\n",
        "        x = self.fc3(x)\n",
        "        x = F.log_softmax(x, dim=1)\n",
        "        return x"
      ],
      "metadata": {
        "id": "80QOlNxPKqQh"
      },
      "execution_count": null,
      "outputs": []
    },
    {
      "cell_type": "markdown",
      "source": [
        "\n",
        "\n",
        "```\n",
        "self.dropout_prob = 0.5 # 50%의 노드에 대한 가중치 계산을 하지 않기 위한 설정\n",
        "\n",
        "x = F.dropout(x, training=self.training, p=self.dropout_prob)\n",
        "```\n",
        "\n",
        "신경망 학습 과정에서 랜덤하게 Drop을 시켜서 가중치 계산을 하지 않는 방법을 통해 Generalization 효과를 주기 위한 장치인데, 모델 init에서 변수 선언을 해 놓는 것이다.\n",
        "인간의 유전 알고리즘 중에서 돌연변이의 개념을 차용한 것이라고 한다.\n",
        "relu 뒤에서 p값으로 위의 dropout_prob을 넣어서 dropout 함수를 사용한다."
      ],
      "metadata": {
        "id": "p_YWaETHQ1X1"
      }
    },
    {
      "cell_type": "markdown",
      "source": [
        "\n",
        "\n",
        "```\n",
        "self.batch_norm1 = nn.BatchNorm1d(512) # 1dimension이기 때문에 BatchNorm1d를 사용함.\n",
        "\n",
        "x = self.batch_norm1(x)\n",
        "```\n",
        "\n",
        "각 Layer마다 입력값 분포가 달라짐에 따른 학습 속도 저하를 방지하기 위한 Batch Normalization 기법을 사용하도록 한다. 이를 통해 Input 분포를 정규화 함으로써 학습 속도를 높인다.\n",
        "fully connected의 함수 뒤에서 사용하며 이 때 각각 512, 256인 것을 그대로 집어 넣는다."
      ],
      "metadata": {
        "id": "Jxpfetk7Q7Uz"
      }
    },
    {
      "cell_type": "markdown",
      "source": [
        "---"
      ],
      "metadata": {
        "id": "Y_kuk9iXRAPK"
      }
    },
    {
      "cell_type": "markdown",
      "source": [
        "### 초기화, Optimizer, 함수 설정"
      ],
      "metadata": {
        "id": "sbKpZLi1RBRM"
      }
    },
    {
      "cell_type": "code",
      "source": [
        "def weight_init(m):\n",
        "    if isinstance(m, nn.Linear):\n",
        "        init.kaiming_uniform_(m.weight.data)\n",
        "\n",
        "model = MLP().to(DEVICE) # 정의한 모델을 GPU로 납치\n",
        "model.apply(weight_init)\n",
        "# optimizer = torch.optim.SGD(model.parameters(), lr=0.01, momentum=0.5)\n",
        "optimizer = torch.optim.Adam(model.parameters(), lr=0.01)\n",
        "loss_fn = nn.CrossEntropyLoss()\n",
        "\n",
        "# print(model)"
      ],
      "metadata": {
        "id": "rNJ0rZ0yQzR9"
      },
      "execution_count": null,
      "outputs": []
    },
    {
      "cell_type": "markdown",
      "source": [
        "**해설**\n",
        "\n",
        "앞서 맨 처음의 모듈 임포트 때 언급한 init을 여기에서 사용한다.\n",
        "여기에서의 init은 신경망의 초기화를 의미한다.\n",
        "초기화를 어떻게 하느냐에 따라 초기 Loss 값이 달라진다고 한다.\n",
        "최적의 신경망 Loss를 갖기 위해서 어디에서 초기 Loss가 스타트 하느냐가 중요한데 그것을 여기에서 잡아주는 것이다.\n",
        "여기에서는 He Initialization이라는 초기화 기법을 사용하도록 한다."
      ],
      "metadata": {
        "id": "7Ht4ZXeOUAxu"
      }
    },
    {
      "cell_type": "markdown",
      "source": [
        "\n",
        "\n",
        "```\n",
        "if isinstance(m, nn.Linear):\n",
        "\tinit.kaiming_uniform_(m.weight.data)\n",
        "    \n",
        "model.apply(weight_init)\n",
        "```\n",
        "\n",
        "파라미터 중에서 mm.Linear 오브젝트에 해당하는 것에 대해서만 초기화를 진행하도록 한다. 여기서의 kaiminguniform이라는 것이 he initialization을 의미한다.\n",
        "그리고 이 초기화 함수를 model.apply를 통해 적용시킨다.\n"
      ],
      "metadata": {
        "id": "_QHQ5LdzUDah"
      }
    },
    {
      "cell_type": "markdown",
      "source": [
        "`optimizer = torch.optim.Adam(model.parameters(), lr=0.01)`\n",
        "\n",
        "딥러닝에서 가장 많이 사용하는 Optimizer인 Adam을 사용한다. 러닝 레이트는 0.01로 지정한다."
      ],
      "metadata": {
        "id": "h2mnS1hzUHS7"
      }
    },
    {
      "cell_type": "markdown",
      "source": [
        "---\n",
        "\n",
        "## 학습 함수 정의"
      ],
      "metadata": {
        "id": "zYx-EQDjUKvT"
      }
    },
    {
      "cell_type": "code",
      "source": [
        "def train(model, train_loader, optimizer, log_interval):\n",
        "    model.train()\n",
        "    for batch_idx, (image, label) in enumerate(train_loader):\n",
        "        image = image.to(DEVICE)\n",
        "        label = label.to(DEVICE)\n",
        "        optimizer.zero_grad()\n",
        "        output = model(image)\n",
        "        loss = loss_fn(output, label)\n",
        "        loss.backward()\n",
        "        optimizer.step()"
      ],
      "metadata": {
        "id": "8LimEDbEUB2r"
      },
      "execution_count": null,
      "outputs": []
    },
    {
      "cell_type": "markdown",
      "source": [
        "**해설**\n",
        "\n",
        "위에서 모델 정의 후 GPU로 납치했듯 이미지와 라벨 역시 GPU로 납치해야 한다.\n",
        "zero_grad의 경우, 이전에 계산되었던 gradient를 이용하지 않게 하기 위해 사용한다.\n",
        "또한 한 번의 feed-forward를 model(image)를 통해 거친 뒤, Cross Entropy를 통해 로스 계산 후, back propagation을 하는 것이 한 번의 iteration이다.\n",
        "optimizer.step()에서는 파라미터값을 업데이트 한다."
      ],
      "metadata": {
        "id": "QOumVGxeUQhj"
      }
    },
    {
      "cell_type": "markdown",
      "source": [
        "---\n",
        "\n",
        "## 검증 함수 정의"
      ],
      "metadata": {
        "id": "XLMcdsWcUT40"
      }
    },
    {
      "cell_type": "code",
      "source": [
        "def evaluate(model, test_loader):\n",
        "    model.eval()\n",
        "    test_loss = 0\n",
        "    correct = 0\n",
        "\n",
        "    with torch.no_grad():\n",
        "        for image, label in test_loader:\n",
        "            image = image.to(DEVICE)\n",
        "            label = label.to(DEVICE)\n",
        "            output = model(image)\n",
        "            test_loss += loss_fn(output, label).item()\n",
        "            prediction = output.max(1, keepdim=True)[1]\n",
        "            correct += prediction.eq(label.view_as(prediction)).sum().item()\n",
        "\n",
        "    test_loss /= len(test_loader.dataset)\n",
        "    test_accuracy = 100. * correct / len(test_loader.dataset)\n",
        "    return test_loss, test_accuracy"
      ],
      "metadata": {
        "id": "yEZIR1NpUPyQ"
      },
      "execution_count": null,
      "outputs": []
    },
    {
      "cell_type": "markdown",
      "source": [
        "**해설**\n",
        "\n",
        "\n",
        "\n",
        "```\n",
        "with torch.no_grad():\n",
        "```\n",
        "\n",
        "검증 단계에서의 코드에서는 파라미터가 업데이트 되면 안 된다. 그래서 no_grad로 방지한다.\n",
        "\n",
        "\n",
        "```\n",
        "output = model(image)\n",
        "```\n",
        "\n",
        "모델로 test_loader에서 뽑은 image를 사용해 output 계산.\n",
        "\n",
        "\n",
        "```\n",
        "test_loss += loss_fn(output, label).item()\n",
        "```\n",
        "Cross Entropy를 사용해 loss를 계산해 test_loss에 더함.\n",
        "\n",
        "```\n",
        "prediction = output.max(1, keepdim=True)[1]\n",
        "```\n",
        "\n",
        "Ouput이 크기 10의 벡터이기 때문에 가장 큰 숫자를 예측값 prediction으로 정의한다.\n",
        "\n",
        "```\n",
        "prediction = output.max(1, keepdim=True)[1]\n",
        "```\n",
        "\n",
        "예측이 정답과 일치하는지를 확인하여 일치하면 correct 변수에 더한다."
      ],
      "metadata": {
        "id": "UjwabkN4VDrV"
      }
    },
    {
      "cell_type": "markdown",
      "source": [
        "---\n",
        "\n",
        "## 학습 진행 및 확인"
      ],
      "metadata": {
        "id": "6jbYW-R-ViGX"
      }
    },
    {
      "cell_type": "code",
      "source": [
        "for Epoch in range(1, EPOCHS + 1):\n",
        "    train(model, train_loader, optimizer, log_interval=100)\n",
        "    test_loss, test_accuracy = evaluate(model, test_loader)\n",
        "    print(\"[EPOCH: {}], \\tTest Loss: {:.4f}, \\tTest Accuracy: {:.2f} %\".format(\n",
        "        Epoch, test_loss, test_accuracy\n",
        "    ))"
      ],
      "metadata": {
        "colab": {
          "base_uri": "https://localhost:8080/"
        },
        "id": "dx5puNGeUYMr",
        "outputId": "b218c790-5d71-499a-d408-80b275af9e95"
      },
      "execution_count": null,
      "outputs": [
        {
          "output_type": "stream",
          "name": "stdout",
          "text": [
            "[EPOCH: 1], \tTest Loss: 0.0047, \tTest Accuracy: 95.07 %\n",
            "[EPOCH: 2], \tTest Loss: 0.0034, \tTest Accuracy: 96.78 %\n",
            "[EPOCH: 3], \tTest Loss: 0.0028, \tTest Accuracy: 97.34 %\n",
            "[EPOCH: 4], \tTest Loss: 0.0027, \tTest Accuracy: 97.32 %\n",
            "[EPOCH: 5], \tTest Loss: 0.0023, \tTest Accuracy: 97.74 %\n",
            "[EPOCH: 6], \tTest Loss: 0.0023, \tTest Accuracy: 97.53 %\n",
            "[EPOCH: 7], \tTest Loss: 0.0024, \tTest Accuracy: 97.69 %\n",
            "[EPOCH: 8], \tTest Loss: 0.0022, \tTest Accuracy: 97.80 %\n",
            "[EPOCH: 9], \tTest Loss: 0.0022, \tTest Accuracy: 97.90 %\n",
            "[EPOCH: 10], \tTest Loss: 0.0021, \tTest Accuracy: 98.12 %\n",
            "[EPOCH: 11], \tTest Loss: 0.0021, \tTest Accuracy: 97.93 %\n",
            "[EPOCH: 12], \tTest Loss: 0.0021, \tTest Accuracy: 98.04 %\n",
            "[EPOCH: 13], \tTest Loss: 0.0021, \tTest Accuracy: 98.05 %\n",
            "[EPOCH: 14], \tTest Loss: 0.0020, \tTest Accuracy: 98.14 %\n",
            "[EPOCH: 15], \tTest Loss: 0.0018, \tTest Accuracy: 98.35 %\n",
            "[EPOCH: 16], \tTest Loss: 0.0019, \tTest Accuracy: 98.15 %\n",
            "[EPOCH: 17], \tTest Loss: 0.0020, \tTest Accuracy: 98.09 %\n",
            "[EPOCH: 18], \tTest Loss: 0.0021, \tTest Accuracy: 98.09 %\n",
            "[EPOCH: 19], \tTest Loss: 0.0019, \tTest Accuracy: 98.27 %\n",
            "[EPOCH: 20], \tTest Loss: 0.0020, \tTest Accuracy: 98.21 %\n",
            "[EPOCH: 21], \tTest Loss: 0.0019, \tTest Accuracy: 98.25 %\n",
            "[EPOCH: 22], \tTest Loss: 0.0019, \tTest Accuracy: 98.21 %\n",
            "[EPOCH: 23], \tTest Loss: 0.0018, \tTest Accuracy: 98.38 %\n",
            "[EPOCH: 24], \tTest Loss: 0.0021, \tTest Accuracy: 98.16 %\n",
            "[EPOCH: 25], \tTest Loss: 0.0019, \tTest Accuracy: 98.38 %\n",
            "[EPOCH: 26], \tTest Loss: 0.0020, \tTest Accuracy: 98.19 %\n",
            "[EPOCH: 27], \tTest Loss: 0.0020, \tTest Accuracy: 98.01 %\n",
            "[EPOCH: 28], \tTest Loss: 0.0018, \tTest Accuracy: 98.52 %\n",
            "[EPOCH: 29], \tTest Loss: 0.0019, \tTest Accuracy: 98.38 %\n",
            "[EPOCH: 30], \tTest Loss: 0.0019, \tTest Accuracy: 98.32 %\n"
          ]
        }
      ]
    },
    {
      "cell_type": "markdown",
      "source": [
        "처음에 설정한 1부터 31까지, 즉 30 Epoch 만큼 학습 및 검증을 실행한다."
      ],
      "metadata": {
        "id": "q4phFrXvVoBf"
      }
    },
    {
      "cell_type": "code",
      "source": [],
      "metadata": {
        "id": "Zm8l35G6Vl3V"
      },
      "execution_count": null,
      "outputs": []
    }
  ]
}